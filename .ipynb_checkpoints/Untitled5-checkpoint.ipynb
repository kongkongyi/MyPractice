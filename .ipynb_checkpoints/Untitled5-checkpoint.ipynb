{
 "cells": [
  {
   "cell_type": "code",
   "execution_count": 14,
   "metadata": {},
   "outputs": [
    {
     "name": "stderr",
     "output_type": "stream",
     "text": [
      "Usage: ipykernel_launcher.py [options]\n",
      "\n",
      "ipykernel_launcher.py: error: no such option: -f\n"
     ]
    },
    {
     "ename": "SystemExit",
     "evalue": "2",
     "output_type": "error",
     "traceback": [
      "An exception has occurred, use %tb to see the full traceback.\n",
      "\u001b[0;31mSystemExit\u001b[0m\u001b[0;31m:\u001b[0m 2\n"
     ]
    }
   ],
   "source": [
    "#%tb\n",
    "import socket\n",
    "import re\n",
    "import sys\n",
    "\n",
    "def check_server(address, port):\n",
    "    #Create a TCP socket\n",
    "    s = socket.socket()\n",
    "    print(\"Attempting to connect to {} on port {}\".format(address, port))\n",
    "    try:\n",
    "        s.connect((address, port))\n",
    "        print(\"Connected to {} on port {}\".format(address, port))\n",
    "        return True\n",
    "    except:\n",
    "        print(\"Connection to {} on port {} failed\".format(address, port))\n",
    "        return False\n",
    "    \n",
    "if __name__ == '__main__':\n",
    "    from optparse import OptionParser\n",
    "    parser = OptionParser()\n",
    "    \n",
    "    parser.add_option('-a', '--address', dest='address', default='localhost',help='ADDRESS for server', metavar='ADDRESS')\n",
    "    parser.add_option('-p', '--port', dest='port', type='int', default=80,help='PORT for server', metavar='PORT')\n",
    "    (options, args) = parser.parse_args()\n",
    "    print('option:{},{}'.format(options, args))\n",
    "    check = check_server(options.address, options.port)\n",
    "    print('check_server returned {}'.format(check))\n",
    "    sys.exit(not check\n",
    "    \n"
   ]
  },
  {
   "cell_type": "code",
   "execution_count": 15,
   "metadata": {},
   "outputs": [
    {
     "name": "stderr",
     "output_type": "stream",
     "text": [
      "Usage: ipykernel_launcher.py [options]\n",
      "\n",
      "ipykernel_launcher.py: error: no such option: -f\n"
     ]
    },
    {
     "ename": "SystemExit",
     "evalue": "2",
     "output_type": "error",
     "traceback": [
      "An exception has occurred, use %tb to see the full traceback.\n",
      "\u001b[0;31mSystemExit\u001b[0m\u001b[0;31m:\u001b[0m 2\n"
     ]
    },
    {
     "name": "stderr",
     "output_type": "stream",
     "text": [
      "/Library/Frameworks/Python.framework/Versions/3.7/lib/python3.7/site-packages/IPython/core/interactiveshell.py:3275: UserWarning: To exit: use 'exit', 'quit', or Ctrl-D.\n",
      "  warn(\"To exit: use 'exit', 'quit', or Ctrl-D.\", stacklevel=1)\n"
     ]
    }
   ],
   "source": [
    "import socket\n",
    "import re\n",
    "import sys\n",
    "\n",
    "def check_webserver(address, port, resource):\n",
    "    #build up HTTP request string\n",
    "    if not resource.startswith('/'):\n",
    "        resource = '/' + resource\n",
    "        \n",
    "    request_string = \"GET {} HTTP/1.1\\r\\nHost: {}\\r\\n\\r\\n\".format(resource, address)\n",
    "    print('HTTP request')\n",
    "    print('|||{}|||'.format(request_string))\n",
    "    \n",
    "    #Create a TCP socket\n",
    "    s = socket.socket()\n",
    "    print(\"Attempting to connect to {} on port {}\".format(address, port))\n",
    "    try:\n",
    "        s.connect((address, port))\n",
    "        print(\"Connected to {} on port {}\".format(address, port))\n",
    "        s.send(request_string)\n",
    "        #we should only need the first 100 bytes or so\n",
    "        rsp = s.recv(100)\n",
    "        print('Received 100 bytes of HTTP response')\n",
    "        print('|||{}|||'.format(rsp))\n",
    "    \n",
    "    except:\n",
    "        print(\"Connection to {} on port {} failed\".format(address, port))\n",
    "        return False\n",
    "    finally:\n",
    "        # be a good citizen and close your connection\n",
    "        print('Closing the connection')\n",
    "        s.close()\n",
    "    \n",
    "    lines = rsp.splitlines()\n",
    "    print('First line of HTTP response: {}'.format(lines[0]))\n",
    "    try:\n",
    "        version, status, message = re.split(r'\\s+', lines[0], 2)\n",
    "        print('Version:{}, Status:{}, Message:{}'.format(version, status, message))\n",
    "    except ValueError:\n",
    "        print('Failed to split status line')\n",
    "        return False\n",
    "    if status in ['200', '300']:\n",
    "        print('Sucess - status was {}'.format(status))\n",
    "        return True\n",
    "    else:\n",
    "        print('Status was {}'.format(status))\n",
    "        return False\n",
    "    \n",
    "if __name__ == '__main__':\n",
    "    from optparse import OptionParser\n",
    "    parser = OptionParser()\n",
    "    \n",
    "    parser.add_option('-a', '--address', dest='address', default='localhost',help='ADDRESS for server', metavar='ADDRESS')\n",
    "    parser.add_option('-p', '--port', dest='port', type='int', default=80,help='PORT for server', metavar='PORT')\n",
    "    parser.add_option('-r', '--resource', dest='resource', default='index.html',help='RESOURCE to check', metavar='RESOURCE')\n",
    "    \n",
    "    (options, args) = parser.parse_args()\n",
    "    print('options:{}, args:{}'.format(options, args))\n",
    "    check = check_webserver(options.address, options.port, options.resource)\n",
    "    print('check_webserver returned {}'.format(check))\n",
    "    sys.exit(not check)\n",
    "    \n"
   ]
  },
  {
   "cell_type": "code",
   "execution_count": null,
   "metadata": {},
   "outputs": [],
   "source": []
  },
  {
   "cell_type": "code",
   "execution_count": 21,
   "metadata": {},
   "outputs": [],
   "source": [
    "def fn(a, b, *args):\n",
    "    print(max(a, b, *args)) #因min()/max() 都是函数，所以此处要用 “*args” 作为参数传入\n",
    "    print(min(a, b, *args))\n"
   ]
  },
  {
   "cell_type": "code",
   "execution_count": 22,
   "metadata": {},
   "outputs": [
    {
     "name": "stdout",
     "output_type": "stream",
     "text": [
      "9\n",
      "-1\n"
     ]
    }
   ],
   "source": [
    "fn(4,5,2,9,0,-1)"
   ]
  },
  {
   "cell_type": "code",
   "execution_count": 113,
   "metadata": {},
   "outputs": [
    {
     "ename": "AttributeError",
     "evalue": "'dict' object has no attribute 'format'",
     "output_type": "error",
     "traceback": [
      "\u001b[0;31m---------------------------------------------------------------------------\u001b[0m",
      "\u001b[0;31mAttributeError\u001b[0m                            Traceback (most recent call last)",
      "\u001b[0;32m<ipython-input-113-cabc4c38cb0b>\u001b[0m in \u001b[0;36m<module>\u001b[0;34m\u001b[0m\n\u001b[0;32m----> 1\u001b[0;31m \u001b[0;34m[\u001b[0m\u001b[0;34m{\u001b[0m\u001b[0;34m}\u001b[0m\u001b[0;34m.\u001b[0m\u001b[0mformat\u001b[0m\u001b[0;34m(\u001b[0m\u001b[0;34m[\u001b[0m\u001b[0;34m' '\u001b[0m\u001b[0;34m.\u001b[0m\u001b[0mjoin\u001b[0m\u001b[0;34m(\u001b[0m\u001b[0;34m[\u001b[0m\u001b[0mstr\u001b[0m\u001b[0;34m(\u001b[0m\u001b[0mi\u001b[0m\u001b[0;34m-\u001b[0m\u001b[0mj\u001b[0m\u001b[0;34m)\u001b[0m \u001b[0;32mfor\u001b[0m \u001b[0mj\u001b[0m \u001b[0;32min\u001b[0m \u001b[0mrange\u001b[0m\u001b[0;34m(\u001b[0m\u001b[0mi\u001b[0m\u001b[0;34m)\u001b[0m\u001b[0;34m]\u001b[0m\u001b[0;34m)\u001b[0m \u001b[0;32mfor\u001b[0m \u001b[0mi\u001b[0m \u001b[0;32min\u001b[0m \u001b[0mrange\u001b[0m\u001b[0;34m(\u001b[0m\u001b[0;36m10\u001b[0m\u001b[0;34m,\u001b[0m\u001b[0;36m0\u001b[0m\u001b[0;34m,\u001b[0m\u001b[0;34m-\u001b[0m\u001b[0;36m1\u001b[0m\u001b[0;34m)\u001b[0m\u001b[0;34m]\u001b[0m\u001b[0;34m)\u001b[0m \u001b[0;32mfor\u001b[0m \u001b[0mx\u001b[0m \u001b[0;32min\u001b[0m \u001b[0mrange\u001b[0m\u001b[0;34m(\u001b[0m\u001b[0;36m10\u001b[0m\u001b[0;34m)\u001b[0m\u001b[0;34m]\u001b[0m\u001b[0;34m\u001b[0m\u001b[0m\n\u001b[0m",
      "\u001b[0;32m<ipython-input-113-cabc4c38cb0b>\u001b[0m in \u001b[0;36m<listcomp>\u001b[0;34m(.0)\u001b[0m\n\u001b[0;32m----> 1\u001b[0;31m \u001b[0;34m[\u001b[0m\u001b[0;34m{\u001b[0m\u001b[0;34m}\u001b[0m\u001b[0;34m.\u001b[0m\u001b[0mformat\u001b[0m\u001b[0;34m(\u001b[0m\u001b[0;34m[\u001b[0m\u001b[0;34m' '\u001b[0m\u001b[0;34m.\u001b[0m\u001b[0mjoin\u001b[0m\u001b[0;34m(\u001b[0m\u001b[0;34m[\u001b[0m\u001b[0mstr\u001b[0m\u001b[0;34m(\u001b[0m\u001b[0mi\u001b[0m\u001b[0;34m-\u001b[0m\u001b[0mj\u001b[0m\u001b[0;34m)\u001b[0m \u001b[0;32mfor\u001b[0m \u001b[0mj\u001b[0m \u001b[0;32min\u001b[0m \u001b[0mrange\u001b[0m\u001b[0;34m(\u001b[0m\u001b[0mi\u001b[0m\u001b[0;34m)\u001b[0m\u001b[0;34m]\u001b[0m\u001b[0;34m)\u001b[0m \u001b[0;32mfor\u001b[0m \u001b[0mi\u001b[0m \u001b[0;32min\u001b[0m \u001b[0mrange\u001b[0m\u001b[0;34m(\u001b[0m\u001b[0;36m10\u001b[0m\u001b[0;34m,\u001b[0m\u001b[0;36m0\u001b[0m\u001b[0;34m,\u001b[0m\u001b[0;34m-\u001b[0m\u001b[0;36m1\u001b[0m\u001b[0;34m)\u001b[0m\u001b[0;34m]\u001b[0m\u001b[0;34m)\u001b[0m \u001b[0;32mfor\u001b[0m \u001b[0mx\u001b[0m \u001b[0;32min\u001b[0m \u001b[0mrange\u001b[0m\u001b[0;34m(\u001b[0m\u001b[0;36m10\u001b[0m\u001b[0;34m)\u001b[0m\u001b[0;34m]\u001b[0m\u001b[0;34m\u001b[0m\u001b[0m\n\u001b[0m",
      "\u001b[0;31mAttributeError\u001b[0m: 'dict' object has no attribute 'format'"
     ]
    }
   ],
   "source": [
    "[{}.format([' '.join([str(i-j) for j in range(i)]) for i in range(10,0,-1)]) for x in range(10)]"
   ]
  },
  {
   "cell_type": "code",
   "execution_count": 144,
   "metadata": {},
   "outputs": [
    {
     "data": {
      "text/plain": [
       "'9 8 7 6 5 4 3 2 1'"
      ]
     },
     "execution_count": 144,
     "metadata": {},
     "output_type": "execute_result"
    }
   ],
   "source": [
    "[' '.join([str(i-j) for j in range(i)]) for i in range(10,0,-1)][1]"
   ]
  },
  {
   "cell_type": "code",
   "execution_count": 189,
   "metadata": {},
   "outputs": [
    {
     "name": "stdout",
     "output_type": "stream",
     "text": [
      "20 19 18 17 16 15 14 13 12 11 10 9 8 7 6 5 4 3 2 1\n",
      "   19 18 17 16 15 14 13 12 11 10 9 8 7 6 5 4 3 2 1\n",
      "      18 17 16 15 14 13 12 11 10 9 8 7 6 5 4 3 2 1\n",
      "         17 16 15 14 13 12 11 10 9 8 7 6 5 4 3 2 1\n",
      "            16 15 14 13 12 11 10 9 8 7 6 5 4 3 2 1\n",
      "               15 14 13 12 11 10 9 8 7 6 5 4 3 2 1\n",
      "                  14 13 12 11 10 9 8 7 6 5 4 3 2 1\n",
      "                     13 12 11 10 9 8 7 6 5 4 3 2 1\n",
      "                        12 11 10 9 8 7 6 5 4 3 2 1\n",
      "                           11 10 9 8 7 6 5 4 3 2 1\n",
      "                              10 9 8 7 6 5 4 3 2 1\n",
      "                                 9 8 7 6 5 4 3 2 1\n",
      "                                    8 7 6 5 4 3 2 1\n",
      "                                       7 6 5 4 3 2 1\n",
      "                                          6 5 4 3 2 1\n",
      "                                             5 4 3 2 1\n",
      "                                                4 3 2 1\n",
      "                                                   3 2 1\n",
      "                                                      2 1\n",
      "                                                         1\n"
     ]
    },
    {
     "data": {
      "text/plain": [
       "[None,\n",
       " None,\n",
       " None,\n",
       " None,\n",
       " None,\n",
       " None,\n",
       " None,\n",
       " None,\n",
       " None,\n",
       " None,\n",
       " None,\n",
       " None,\n",
       " None,\n",
       " None,\n",
       " None,\n",
       " None,\n",
       " None,\n",
       " None,\n",
       " None,\n",
       " None]"
      ]
     },
     "execution_count": 189,
     "metadata": {},
     "output_type": "execute_result"
    }
   ],
   "source": [
    "[print('{}{}'.format(' '*d*3,([' '.join([str(i-j) for j in range(i)]) for i in range(20,0,-1)][d]))) for d in range(20)]"
   ]
  },
  {
   "cell_type": "markdown",
   "metadata": {},
   "source": []
  },
  {
   "cell_type": "code",
   "execution_count": 1,
   "metadata": {},
   "outputs": [],
   "source": [
    "def show(n):\n",
    "    tail = \" \".join([str(i) for i in range(n, 0, -1)])\n",
    "    width = len(tail)\n",
    "    print('length:{}'.format(width))\n",
    "    for i in range(1, n):\n",
    "        print(\"{:>{}}\".format(\" \".join([str(j) for j in range(i, 0, -1)]), width))\n",
    "    print(tail)"
   ]
  },
  {
   "cell_type": "code",
   "execution_count": 2,
   "metadata": {},
   "outputs": [
    {
     "name": "stdout",
     "output_type": "stream",
     "text": [
      "length:20\n",
      "                   1\n",
      "                 2 1\n",
      "               3 2 1\n",
      "             4 3 2 1\n",
      "           5 4 3 2 1\n",
      "         6 5 4 3 2 1\n",
      "       7 6 5 4 3 2 1\n",
      "     8 7 6 5 4 3 2 1\n",
      "   9 8 7 6 5 4 3 2 1\n",
      "10 9 8 7 6 5 4 3 2 1\n"
     ]
    }
   ],
   "source": [
    "show(10)"
   ]
  },
  {
   "cell_type": "code",
   "execution_count": 3,
   "metadata": {},
   "outputs": [],
   "source": [
    "def show1(n):\n",
    "    tail = ' '.join(str(i) for i in range(n, 0, -1))\n",
    "    print(tail)\n",
    "    for i in range(len(tail)):\n",
    "        if tail[i] == ' ':\n",
    "            print(' '*i, tail[i+1:])"
   ]
  },
  {
   "cell_type": "code",
   "execution_count": null,
   "metadata": {},
   "outputs": [],
   "source": []
  },
  {
   "cell_type": "code",
   "execution_count": null,
   "metadata": {},
   "outputs": [],
   "source": []
  },
  {
   "cell_type": "code",
   "execution_count": null,
   "metadata": {},
   "outputs": [],
   "source": []
  },
  {
   "cell_type": "code",
   "execution_count": null,
   "metadata": {},
   "outputs": [],
   "source": []
  },
  {
   "cell_type": "code",
   "execution_count": null,
   "metadata": {},
   "outputs": [],
   "source": []
  },
  {
   "cell_type": "code",
   "execution_count": null,
   "metadata": {},
   "outputs": [],
   "source": []
  }
 ],
 "metadata": {
  "kernelspec": {
   "display_name": "Python 3",
   "language": "python",
   "name": "python3"
  },
  "language_info": {
   "codemirror_mode": {
    "name": "ipython",
    "version": 3
   },
   "file_extension": ".py",
   "mimetype": "text/x-python",
   "name": "python",
   "nbconvert_exporter": "python",
   "pygments_lexer": "ipython3",
   "version": "3.7.0"
  }
 },
 "nbformat": 4,
 "nbformat_minor": 2
}
